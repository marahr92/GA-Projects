{
 "cells": [
  {
   "cell_type": "markdown",
   "id": "4fc68f0c",
   "metadata": {},
   "source": [
    "# Problem Statement"
   ]
  },
  {
   "cell_type": "markdown",
   "id": "dbea8924",
   "metadata": {},
   "source": [
    "---\n",
    "We are the Data team working at Nex Realtors\n",
    "A property portal trusted for its extensive listings and comprehensive market information on residential property in Iowa.\n",
    "\n",
    "To develop a model that can predict to `at least 75% accuracy`.\n",
    "\n",
    "Help agents registered under NexRes to predict property sale prices and use predictor to advise clients to optimise property for sale\n",
    "\n",
    "It is imperative for us to develop this model to maintain our status in the growing industry and empower our agents to continue providing top value to our clients, who rely on us to secure the best deal."
   ]
  },
  {
   "cell_type": "markdown",
   "id": "c299a8bd",
   "metadata": {},
   "source": [
    "# CLEANING OF DATASET"
   ]
  },
  {
   "cell_type": "code",
   "execution_count": 1,
   "id": "ecd7cfae",
   "metadata": {},
   "outputs": [],
   "source": [
    "#import libraries\n",
    "import pandas as pd\n",
    "import numpy as np\n",
    "import statistics"
   ]
  },
  {
   "cell_type": "code",
   "execution_count": 2,
   "id": "5e0ffec2",
   "metadata": {},
   "outputs": [],
   "source": [
    "#read csv file\n",
    "house = pd.read_csv('train.csv')"
   ]
  },
  {
   "cell_type": "code",
   "execution_count": 3,
   "id": "8648db82",
   "metadata": {},
   "outputs": [],
   "source": [
    "#setting rows and columns able to be viewed\n",
    "pd.set_option(\"display.max_rows\", 50)\n",
    "pd.set_option(\"display.max_columns\", 60)"
   ]
  },
  {
   "cell_type": "code",
   "execution_count": 4,
   "id": "0445433d",
   "metadata": {},
   "outputs": [
    {
     "name": "stdout",
     "output_type": "stream",
     "text": [
      "<class 'pandas.core.frame.DataFrame'>\n",
      "RangeIndex: 2051 entries, 0 to 2050\n",
      "Data columns (total 81 columns):\n",
      " #   Column           Non-Null Count  Dtype  \n",
      "---  ------           --------------  -----  \n",
      " 0   Id               2051 non-null   int64  \n",
      " 1   PID              2051 non-null   int64  \n",
      " 2   MS SubClass      2051 non-null   int64  \n",
      " 3   MS Zoning        2051 non-null   object \n",
      " 4   Lot Frontage     1721 non-null   float64\n",
      " 5   Lot Area         2051 non-null   int64  \n",
      " 6   Street           2051 non-null   object \n",
      " 7   Alley            140 non-null    object \n",
      " 8   Lot Shape        2051 non-null   object \n",
      " 9   Land Contour     2051 non-null   object \n",
      " 10  Utilities        2051 non-null   object \n",
      " 11  Lot Config       2051 non-null   object \n",
      " 12  Land Slope       2051 non-null   object \n",
      " 13  Neighborhood     2051 non-null   object \n",
      " 14  Condition 1      2051 non-null   object \n",
      " 15  Condition 2      2051 non-null   object \n",
      " 16  Bldg Type        2051 non-null   object \n",
      " 17  House Style      2051 non-null   object \n",
      " 18  Overall Qual     2051 non-null   int64  \n",
      " 19  Overall Cond     2051 non-null   int64  \n",
      " 20  Year Built       2051 non-null   int64  \n",
      " 21  Year Remod/Add   2051 non-null   int64  \n",
      " 22  Roof Style       2051 non-null   object \n",
      " 23  Roof Matl        2051 non-null   object \n",
      " 24  Exterior 1st     2051 non-null   object \n",
      " 25  Exterior 2nd     2051 non-null   object \n",
      " 26  Mas Vnr Type     2029 non-null   object \n",
      " 27  Mas Vnr Area     2029 non-null   float64\n",
      " 28  Exter Qual       2051 non-null   object \n",
      " 29  Exter Cond       2051 non-null   object \n",
      " 30  Foundation       2051 non-null   object \n",
      " 31  Bsmt Qual        1996 non-null   object \n",
      " 32  Bsmt Cond        1996 non-null   object \n",
      " 33  Bsmt Exposure    1993 non-null   object \n",
      " 34  BsmtFin Type 1   1996 non-null   object \n",
      " 35  BsmtFin SF 1     2050 non-null   float64\n",
      " 36  BsmtFin Type 2   1995 non-null   object \n",
      " 37  BsmtFin SF 2     2050 non-null   float64\n",
      " 38  Bsmt Unf SF      2050 non-null   float64\n",
      " 39  Total Bsmt SF    2050 non-null   float64\n",
      " 40  Heating          2051 non-null   object \n",
      " 41  Heating QC       2051 non-null   object \n",
      " 42  Central Air      2051 non-null   object \n",
      " 43  Electrical       2051 non-null   object \n",
      " 44  1st Flr SF       2051 non-null   int64  \n",
      " 45  2nd Flr SF       2051 non-null   int64  \n",
      " 46  Low Qual Fin SF  2051 non-null   int64  \n",
      " 47  Gr Liv Area      2051 non-null   int64  \n",
      " 48  Bsmt Full Bath   2049 non-null   float64\n",
      " 49  Bsmt Half Bath   2049 non-null   float64\n",
      " 50  Full Bath        2051 non-null   int64  \n",
      " 51  Half Bath        2051 non-null   int64  \n",
      " 52  Bedroom AbvGr    2051 non-null   int64  \n",
      " 53  Kitchen AbvGr    2051 non-null   int64  \n",
      " 54  Kitchen Qual     2051 non-null   object \n",
      " 55  TotRms AbvGrd    2051 non-null   int64  \n",
      " 56  Functional       2051 non-null   object \n",
      " 57  Fireplaces       2051 non-null   int64  \n",
      " 58  Fireplace Qu     1051 non-null   object \n",
      " 59  Garage Type      1938 non-null   object \n",
      " 60  Garage Yr Blt    1937 non-null   float64\n",
      " 61  Garage Finish    1937 non-null   object \n",
      " 62  Garage Cars      2050 non-null   float64\n",
      " 63  Garage Area      2050 non-null   float64\n",
      " 64  Garage Qual      1937 non-null   object \n",
      " 65  Garage Cond      1937 non-null   object \n",
      " 66  Paved Drive      2051 non-null   object \n",
      " 67  Wood Deck SF     2051 non-null   int64  \n",
      " 68  Open Porch SF    2051 non-null   int64  \n",
      " 69  Enclosed Porch   2051 non-null   int64  \n",
      " 70  3Ssn Porch       2051 non-null   int64  \n",
      " 71  Screen Porch     2051 non-null   int64  \n",
      " 72  Pool Area        2051 non-null   int64  \n",
      " 73  Pool QC          9 non-null      object \n",
      " 74  Fence            400 non-null    object \n",
      " 75  Misc Feature     65 non-null     object \n",
      " 76  Misc Val         2051 non-null   int64  \n",
      " 77  Mo Sold          2051 non-null   int64  \n",
      " 78  Yr Sold          2051 non-null   int64  \n",
      " 79  Sale Type        2051 non-null   object \n",
      " 80  SalePrice        2051 non-null   int64  \n",
      "dtypes: float64(11), int64(28), object(42)\n",
      "memory usage: 1.3+ MB\n"
     ]
    }
   ],
   "source": [
    "#get row,column, non-null count and data types info\n",
    "house.info()"
   ]
  },
  {
   "cell_type": "markdown",
   "id": "59d5a68a",
   "metadata": {},
   "source": [
    "# CHECK NULL VALUES"
   ]
  },
  {
   "cell_type": "code",
   "execution_count": 5,
   "id": "c8616e70",
   "metadata": {},
   "outputs": [
    {
     "data": {
      "text/plain": [
       "Pool QC           2042\n",
       "Misc Feature      1986\n",
       "Alley             1911\n",
       "Fence             1651\n",
       "Fireplace Qu      1000\n",
       "Lot Frontage       330\n",
       "Garage Finish      114\n",
       "Garage Qual        114\n",
       "Garage Yr Blt      114\n",
       "Garage Cond        114\n",
       "Garage Type        113\n",
       "Bsmt Exposure       58\n",
       "BsmtFin Type 2      56\n",
       "BsmtFin Type 1      55\n",
       "Bsmt Cond           55\n",
       "Bsmt Qual           55\n",
       "Mas Vnr Area        22\n",
       "Mas Vnr Type        22\n",
       "Bsmt Half Bath       2\n",
       "Bsmt Full Bath       2\n",
       "Garage Area          1\n",
       "Total Bsmt SF        1\n",
       "Bsmt Unf SF          1\n",
       "BsmtFin SF 2         1\n",
       "BsmtFin SF 1         1\n",
       "Garage Cars          1\n",
       "Mo Sold              0\n",
       "Sale Type            0\n",
       "Full Bath            0\n",
       "Half Bath            0\n",
       "dtype: int64"
      ]
     },
     "execution_count": 5,
     "metadata": {},
     "output_type": "execute_result"
    }
   ],
   "source": [
    "#check null values\n",
    "house.isna().sum().sort_values(ascending = False).head(30)"
   ]
  },
  {
   "cell_type": "markdown",
   "id": "3b128c05",
   "metadata": {},
   "source": [
    "There are 26 variables with missing values. I will sort the variables in to nominal, ordinal, numerical categories. Then fill in the missing data accordingly."
   ]
  },
  {
   "cell_type": "code",
   "execution_count": 6,
   "id": "de58969a",
   "metadata": {},
   "outputs": [
    {
     "name": "stdout",
     "output_type": "stream",
     "text": [
      "Index(['id', 'pid', 'ms_subclass', 'ms_zoning', 'lot_frontage', 'lot_area',\n",
      "       'street', 'alley', 'lot_shape', 'land_contour', 'utilities',\n",
      "       'lot_config', 'land_slope', 'neighborhood', 'condition_1',\n",
      "       'condition_2', 'bldg_type', 'house_style', 'overall_qual',\n",
      "       'overall_cond', 'year_built', 'year_remod/add', 'roof_style',\n",
      "       'roof_matl', 'exterior_1st', 'exterior_2nd', 'mas_vnr_type',\n",
      "       'mas_vnr_area', 'exter_qual', 'exter_cond', 'foundation', 'bsmt_qual',\n",
      "       'bsmt_cond', 'bsmt_exposure', 'bsmtfin_type_1', 'bsmtfin_sf_1',\n",
      "       'bsmtfin_type_2', 'bsmtfin_sf_2', 'bsmt_unf_sf', 'total_bsmt_sf',\n",
      "       'heating', 'heating_qc', 'central_air', 'electrical', '1st_flr_sf',\n",
      "       '2nd_flr_sf', 'low_qual_fin_sf', 'gr_liv_area', 'bsmt_full_bath',\n",
      "       'bsmt_half_bath', 'full_bath', 'half_bath', 'bedroom_abvgr',\n",
      "       'kitchen_abvgr', 'kitchen_qual', 'totrms_abvgrd', 'functional',\n",
      "       'fireplaces', 'fireplace_qu', 'garage_type', 'garage_yr_blt',\n",
      "       'garage_finish', 'garage_cars', 'garage_area', 'garage_qual',\n",
      "       'garage_cond', 'paved_drive', 'wood_deck_sf', 'open_porch_sf',\n",
      "       'enclosed_porch', '3ssn_porch', 'screen_porch', 'pool_area', 'pool_qc',\n",
      "       'fence', 'misc_feature', 'misc_val', 'mo_sold', 'yr_sold', 'sale_type',\n",
      "       'saleprice'],\n",
      "      dtype='object')\n"
     ]
    }
   ],
   "source": [
    "#change column names to snake case\n",
    "house.columns = house.columns.str.lower().str.replace(' ','_')\n",
    "print(house.columns)\n"
   ]
  },
  {
   "cell_type": "code",
   "execution_count": 7,
   "id": "3f3faeff",
   "metadata": {},
   "outputs": [],
   "source": [
    "#total features into nominal, ordinal and numerical categories\n",
    "\n",
    "total_nominal_=[\n",
    "    'pid',\n",
    "    'ms_subclass',\n",
    "    'ms_zoning',\n",
    "    'street',\n",
    "    'alley',\n",
    "    'land_contour',\n",
    "    'lot_config',\n",
    "    'neighborhood',\n",
    "    'condition_1',\n",
    "    'condition_2',\n",
    "    'Bldg Type',\n",
    "    'house_style',\n",
    "    'roof_style',\n",
    "    'roof_matl',\n",
    "    'exterior_1',\n",
    "    'exterior_2',\n",
    "    'mas_vnr_type',\n",
    "    'foundation',\n",
    "    'heating',\n",
    "    'central_air',\n",
    "    'garage_type',\n",
    "    'misc_feature',\n",
    "    'sale_condition',\n",
    "]\n",
    "\n",
    "total_ordinal = [\n",
    "    'lot_shape',\n",
    "    'utilities',\n",
    "    'land_slope',\n",
    "    'overall_qual',\n",
    "    'overall_cond',\n",
    "    'exter_qual',\n",
    "    'exter_cond',\n",
    "    'bsmt_qual',\n",
    "    'bsmt_cond',\n",
    "    'bsmt_exposure',\n",
    "    'bsmtfin_type_1',\n",
    "    'bsmtfin_type_2',\n",
    "    'heating_qc',\n",
    "    'electrical',\n",
    "    'kitchen_qual',\n",
    "    'functional',\n",
    "    'fireplacequ',\n",
    "    'garage_fninsh',\n",
    "    'garage_qual',\n",
    "    'garage_cond',\n",
    "    'paved_drive',\n",
    "    'pool_qc',\n",
    "    'fence',\n",
    "]\n",
    "\n",
    "total_numerical = [\n",
    "    'order',\n",
    "    'lot_frontage',\n",
    "    'lot_area',\n",
    "    'year_bulit',\n",
    "    'year_remod/add',\n",
    "    'mas_vnr_area',\n",
    "    'bsmtfin_type_1',\n",
    "    'bsmtfin_type_2',\n",
    "    'bsmt_unf_sf_1',\n",
    "    'bsmt_unf_sf_2',\n",
    "    'total_bsmt_sf',\n",
    "    '1st_flr_sf',\n",
    "    '2nd_flr_sf',\n",
    "    'low_qual_fin_sf',\n",
    "    'gr_liv_area',\n",
    "    'bsmt_full_bath',\n",
    "    'bsmt_half_bath',\n",
    "    'full_bath',\n",
    "    'bedroom',\n",
    "    'kitchen',\n",
    "    'totrmsabvgrd'\n",
    "    'fireplaces',\n",
    "    'garage_yr_built',\n",
    "    'garage_cars',\n",
    "    'garage_area',\n",
    "    'wood_deck_sf',\n",
    "    'open_porch_sf',\n",
    "    'enclosed_porch_sf',\n",
    "    '3-ssn_porch',\n",
    "    'screen_porch',\n",
    "    'pool_area',\n",
    "    'misc_val',\n",
    "    'mo_sold',\n",
    "    'yr_sold',   \n",
    "]"
   ]
  },
  {
   "cell_type": "code",
   "execution_count": 8,
   "id": "7e3c9057",
   "metadata": {},
   "outputs": [],
   "source": [
    "#organise missing variables into nominal, ordinal and numerical categories\n",
    "nominal_data = [\n",
    "    'misc_feature',\n",
    "    'alley',\n",
    "    'garage_type',\n",
    "    'mas_vnr_type',\n",
    "]\n",
    "ordinal_data = [\n",
    "    'pool_qc',\n",
    "    'fence',\n",
    "    'fireplace_qu',\n",
    "    'garage_finish',\n",
    "    'garage_qual',\n",
    "    'garage_cond',\n",
    "    'bsmt_exposure',\n",
    "    'bsmtfin_type 2',\n",
    "    'bsmtFfin_type 1',\n",
    "    'bsmt_Cond',\n",
    "    'bsmt_qual',\n",
    "]\n",
    "numerical_data = [\n",
    "    'lot_frontage',\n",
    "    'garage_yr_blt',\n",
    "    'mas_vnr_area',\n",
    "    'bsmt_half_bath',\n",
    "    'bsmt_full_bath',\n",
    "    'garage_area',\n",
    "    'total_bsmt_sf',\n",
    "    'bsmtfin_sf_2',\n",
    "    'bsmtfin_sf_1',\n",
    "    'garage_cars',\n",
    "    'bsmt_unf_sf',\n",
    "]"
   ]
  },
  {
   "cell_type": "code",
   "execution_count": 9,
   "id": "6de2ace7",
   "metadata": {},
   "outputs": [],
   "source": [
    "def convert_ordinal(df,column,scale): #convert similar ordinals\n",
    "    for col in column:\n",
    "        df[col] = df[col].map(scale) #map the scale through the columns\n",
    "        df[col] = df[col].fillna(0) #fill null values with 0\n",
    "\n",
    "column1 = [\n",
    "    'exter_qual',\n",
    "    'exter_cond',\n",
    "    'bsmt_qual',\n",
    "    'bsmt_cond',\n",
    "    'heating_qc',\n",
    "    'garage_qual',\n",
    "    'garage_cond',\n",
    "    'kitchen_qual',\n",
    "    'pool_qc',\n",
    "    'fireplace_qu',\n",
    "]\n",
    "scale1 = {'Po':1, 'Fa':2, 'TA':3, 'Gd':4, 'Ex':5, }\n",
    "\n",
    "column2 = ['fence']\n",
    "scale2 = {'MnWw':1, 'GdWo':2, 'MnPrv':1, 'GdPrv':2}\n",
    "\n",
    "column3 = ['garage_finish']\n",
    "scale3 = {'Unf':1, 'Rfn':2, 'Fin':3}\n",
    "\n",
    "column4 = ['bsmt_exposure']\n",
    "scale4 = {'No':1, 'Mn':2, 'Av':3, 'Gd':4}\n",
    "\n",
    "column5 = ['bsmtfin_type_1', 'bsmtfin_type_2']\n",
    "scale5 = {'Unf':1,'LwQ':2, 'Rec':3, 'BLQ':3, 'ALQ':4, 'GLQ':5}\n",
    "\n",
    "\n",
    "convert_ordinal(house,column1,scale1)\n",
    "convert_ordinal(house,column2,scale2)\n",
    "convert_ordinal(house,column3,scale3)\n",
    "convert_ordinal(house,column4,scale4)\n",
    "convert_ordinal(house,column5,scale5)"
   ]
  },
  {
   "cell_type": "code",
   "execution_count": 10,
   "id": "45cff3e4",
   "metadata": {},
   "outputs": [
    {
     "data": {
      "text/plain": [
       "misc_feature      1986\n",
       "alley             1911\n",
       "lot_frontage       330\n",
       "garage_yr_blt      114\n",
       "garage_type        113\n",
       "mas_vnr_type        22\n",
       "mas_vnr_area        22\n",
       "bsmt_full_bath       2\n",
       "bsmt_half_bath       2\n",
       "garage_cars          1\n",
       "garage_area          1\n",
       "bsmtfin_sf_1         1\n",
       "bsmtfin_sf_2         1\n",
       "bsmt_unf_sf          1\n",
       "total_bsmt_sf        1\n",
       "full_bath            0\n",
       "half_bath            0\n",
       "bedroom_abvgr        0\n",
       "kitchen_abvgr        0\n",
       "kitchen_qual         0\n",
       "dtype: int64"
      ]
     },
     "execution_count": 10,
     "metadata": {},
     "output_type": "execute_result"
    }
   ],
   "source": [
    "house.isna().sum().sort_values(ascending=False).head(20)"
   ]
  },
  {
   "cell_type": "code",
   "execution_count": 11,
   "id": "8099507d",
   "metadata": {},
   "outputs": [],
   "source": [
    "def convert_numerical(df,column):\n",
    "    for col in column:\n",
    "        med = np.median(df[col].dropna())\n",
    "        df[col] = df[col].fillna(med)\n",
    "convert_numerical(house, numerical_data)"
   ]
  },
  {
   "cell_type": "code",
   "execution_count": 12,
   "id": "2324247e",
   "metadata": {},
   "outputs": [
    {
     "data": {
      "text/plain": [
       "misc_feature       1986\n",
       "alley              1911\n",
       "garage_type         113\n",
       "mas_vnr_type         22\n",
       "bedroom_abvgr         0\n",
       "fireplace_qu          0\n",
       "fireplaces            0\n",
       "functional            0\n",
       "totrms_abvgrd         0\n",
       "kitchen_qual          0\n",
       "kitchen_abvgr         0\n",
       "id                    0\n",
       "half_bath             0\n",
       "garage_yr_blt         0\n",
       "bsmt_half_bath        0\n",
       "bsmt_full_bath        0\n",
       "gr_liv_area           0\n",
       "low_qual_fin_sf       0\n",
       "2nd_flr_sf            0\n",
       "1st_flr_sf            0\n",
       "dtype: int64"
      ]
     },
     "execution_count": 12,
     "metadata": {},
     "output_type": "execute_result"
    }
   ],
   "source": [
    "house.isna().sum().sort_values(ascending=False).head(20)"
   ]
  },
  {
   "cell_type": "code",
   "execution_count": 13,
   "id": "2616c0c7",
   "metadata": {},
   "outputs": [],
   "source": [
    "def convert_nominal(df,column):\n",
    "    for col in column:\n",
    "        mode = statistics.mode(df[col].dropna())\n",
    "        df[col] = df[col].fillna(mode)\n",
    "convert_nominal(house, nominal_data)"
   ]
  },
  {
   "cell_type": "code",
   "execution_count": 14,
   "id": "c0a4e421",
   "metadata": {},
   "outputs": [
    {
     "data": {
      "text/plain": [
       "id              0\n",
       "heating_qc      0\n",
       "garage_type     0\n",
       "fireplace_qu    0\n",
       "fireplaces      0\n",
       "               ..\n",
       "mas_vnr_type    0\n",
       "exterior_2nd    0\n",
       "exterior_1st    0\n",
       "roof_matl       0\n",
       "saleprice       0\n",
       "Length: 81, dtype: int64"
      ]
     },
     "execution_count": 14,
     "metadata": {},
     "output_type": "execute_result"
    }
   ],
   "source": [
    "#checking for \n",
    "house.isna().sum().sort_values(ascending = False)"
   ]
  },
  {
   "cell_type": "code",
   "execution_count": 17,
   "id": "7b00a231",
   "metadata": {},
   "outputs": [
    {
     "data": {
      "text/plain": [
       "(2051, 79)"
      ]
     },
     "execution_count": 17,
     "metadata": {},
     "output_type": "execute_result"
    }
   ],
   "source": [
    "#removing obvious columns\n",
    "house.drop(['id','pid'], axis = 1, inplace = True)\n",
    "house.shape"
   ]
  },
  {
   "cell_type": "code",
   "execution_count": 19,
   "id": "9f5f64b6",
   "metadata": {},
   "outputs": [],
   "source": [
    "house.to_csv('house_almost_clean.csv')"
   ]
  }
 ],
 "metadata": {
  "kernelspec": {
   "display_name": "Python 3 (ipykernel)",
   "language": "python",
   "name": "python3"
  },
  "language_info": {
   "codemirror_mode": {
    "name": "ipython",
    "version": 3
   },
   "file_extension": ".py",
   "mimetype": "text/x-python",
   "name": "python",
   "nbconvert_exporter": "python",
   "pygments_lexer": "ipython3",
   "version": "3.9.7"
  }
 },
 "nbformat": 4,
 "nbformat_minor": 5
}
