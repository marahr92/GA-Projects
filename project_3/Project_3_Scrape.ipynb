{
 "cells": [
  {
   "cell_type": "markdown",
   "id": "a414ab6b",
   "metadata": {},
   "source": [
    "# Webscraping"
   ]
  },
  {
   "cell_type": "markdown",
   "id": "0325d8a6",
   "metadata": {},
   "source": [
    "# Background"
   ]
  },
  {
   "cell_type": "markdown",
   "id": "a4d0a6f5",
   "metadata": {},
   "source": [
    "There is increased competition in the space for coding bootcamps. Bootcamps such as Hack Reactor, Vertical Institute, Rocket Academy and Le Wagon. If no action is taken, there will be a decline in market share, poor marketing return of investment (ROI), poorer lead generation which means we will not be able to meet the enrollment KPI's.\n",
    "\n",
    "GA marketing is therefore trying to figure out how to better identify the online persona of a bootcamp seeker as opposed to that of a computer science major to aid in targeted advertising.\n",
    "\n",
    "\n",
    "Considering the two topics have quite a bit in common, efforts to further segregate the two targets could yield better advertising ROI."
   ]
  },
  {
   "cell_type": "markdown",
   "id": "00693385",
   "metadata": {},
   "source": [
    "# Problem Statement"
   ]
  },
  {
   "cell_type": "markdown",
   "id": "1edcb9ec",
   "metadata": {},
   "source": [
    "Due to increased competition in the market for bootcamps. General Assembly has been facing poorer enrollments and they intend to maintain their position as one of the better bootcamps out there.We are team of data scientists that are being tasked by General Assembly to build a model with >90% accuracy that helps to identify between those who are looking for bootcamp style learning vs computer science majors/prospective students based on the words they use online."
   ]
  },
  {
   "cell_type": "markdown",
   "id": "2519eaef",
   "metadata": {},
   "source": [
    "## Data Dictionary"
   ]
  },
  {
   "cell_type": "markdown",
   "id": "549fa55b",
   "metadata": {},
   "source": [
    "| Feature | Type | Dataset | Description|\n",
    "| :--- | :--- | :--- | :--- |\n",
    "| subreddit | Object | cs_major / coding_bootcamp | Subreddit contains the topic of the subreddit in the dataframe. Either cs Major or coding bootcamp|\n",
    "| selftext | Object | cs_major / coding_bootcamp | selftext contains the text or the message of the post written by the end user. |\n",
    "| title | Object | cs_major / coding_bootcamp | title contains the title of the post. |\n",
    "| csMajors | Object | cs_major | csMajors is the topic or also known as the subreddit. csMajors refers to Computer Science Major that universities offers to students. |\n",
    "| coding_bootcamp | Object | coding_bootcamp| coding_bootcamp is the topic or also known as the subreddit. coding_bootamp refers to coding bootcamps that are taken by mid-career switches, companies and students who are interested in upskilling. | \n",
    "| combined_text | Object | cs_major / coding_bootcamp | combined_text is the combined columns of selftext and title. |\n"
   ]
  },
  {
   "cell_type": "markdown",
   "id": "0904fb25",
   "metadata": {},
   "source": [
    "# Import Libraries"
   ]
  },
  {
   "cell_type": "code",
   "execution_count": 4,
   "id": "07c310de",
   "metadata": {},
   "outputs": [],
   "source": [
    "import numpy as np\n",
    "import pandas as pd\n",
    "\n",
    "import requests\n",
    "import bs4 as BeautifulSoup\n",
    "import time"
   ]
  },
  {
   "cell_type": "markdown",
   "id": "7e12ef8b",
   "metadata": {},
   "source": [
    "# Webscrape data from Reddit"
   ]
  },
  {
   "cell_type": "markdown",
   "id": "4c66b99a",
   "metadata": {},
   "source": [
    "We will be using the redding API, pushshift.io to webscrape from their subreddit submissions (this can be known as the topic that the end users will find themselves in when they are seeking discussion or posting their interests). We will then organise them into a data frame with 3 columns; subreddit, selftext and title."
   ]
  },
  {
   "cell_type": "code",
   "execution_count": 5,
   "id": "bff14cd8",
   "metadata": {},
   "outputs": [],
   "source": [
    "#define function to webscrape from subreddit\n",
    "def get_posts(subreddit, number):\n",
    "    url = 'https://api.pushshift.io/reddit/search/submission'\n",
    "    params = {\n",
    "            'subreddit': subreddit,\n",
    "            'size': 100\n",
    "        } # 'before' is added later in the while loop\n",
    "    df = pd.DataFrame() # empty dataframe for concatenating\n",
    "    returned = pd.DataFrame()\n",
    "    while True:\n",
    "        time.sleep(3) # in seconds, used to indicate that it will be scraping 100 posts every 3 seconds\n",
    "        \n",
    "        res = requests.get(url, params) # using requests.get to link up with the url(https address)\n",
    "        data = res.json()\n",
    "        posts = data['data']\n",
    "        df = pd.DataFrame(posts)\n",
    "        \n",
    "        params['before'] = df.iloc[-1:,:]['created_utc']\n",
    "        \n",
    "        returned = pd.concat([returned, df[['subreddit','selftext','title']]], axis=0)\n",
    "        returned.drop_duplicates(inplace=True)\n",
    "        \n",
    "        if len(returned) > number:\n",
    "            break\n",
    "      \n",
    "    returned.reset_index(inplace=True,drop=True)\n",
    "    return returned[:number]"
   ]
  },
  {
   "cell_type": "code",
   "execution_count": 6,
   "id": "a5b44d9d",
   "metadata": {},
   "outputs": [],
   "source": [
    "cs_major = get_posts('csMajors', 4000) #scrape 4000 posts\n",
    "coding_bootcamp= get_posts('codingbootcamp', 4000) #scrape 4000 posts"
   ]
  },
  {
   "cell_type": "markdown",
   "id": "6110f20a",
   "metadata": {},
   "source": [
    "Here we give a variable to each subreddit that will be scraped and formed into a dataframe. Do note that we have tried to scrape at least 5000 posts each however, coding_bootcamp does not have that many. Hence, we have lowered down to 4000 where it was able to scrape."
   ]
  },
  {
   "cell_type": "code",
   "execution_count": 7,
   "id": "1c31a80e",
   "metadata": {},
   "outputs": [],
   "source": [
    "cs_major.head() #check for dataframe\n",
    "cs_major.to_csv('data/cs_major.csv',index = False)"
   ]
  },
  {
   "cell_type": "code",
   "execution_count": 8,
   "id": "e2954289",
   "metadata": {},
   "outputs": [],
   "source": [
    "coding_bootcamp.head() #check for dataframe\n",
    "coding_bootcamp.to_csv('data/coding_bootcamp.csv', index = False)"
   ]
  },
  {
   "cell_type": "markdown",
   "id": "4c6362c1",
   "metadata": {},
   "source": [
    "We will be saving these dataframes into a .csv file for our use to clean, do EDA, model and evaluate."
   ]
  }
 ],
 "metadata": {
  "kernelspec": {
   "display_name": "Python 3 (ipykernel)",
   "language": "python",
   "name": "python3"
  },
  "language_info": {
   "codemirror_mode": {
    "name": "ipython",
    "version": 3
   },
   "file_extension": ".py",
   "mimetype": "text/x-python",
   "name": "python",
   "nbconvert_exporter": "python",
   "pygments_lexer": "ipython3",
   "version": "3.9.7"
  }
 },
 "nbformat": 4,
 "nbformat_minor": 5
}
