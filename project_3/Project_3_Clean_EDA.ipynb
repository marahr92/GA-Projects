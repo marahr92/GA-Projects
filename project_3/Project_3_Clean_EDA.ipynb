{
 "cells": [
  {
   "cell_type": "markdown",
   "id": "f711abd5",
   "metadata": {},
   "source": [
    "# Data Cleaning"
   ]
  },
  {
   "cell_type": "markdown",
   "id": "471b1931",
   "metadata": {},
   "source": [
    "## Background"
   ]
  },
  {
   "cell_type": "markdown",
   "id": "8a73b5d9",
   "metadata": {},
   "source": [
    "There is increased competition in the space for coding bootcamps. Bootcamps such as Hack Reactor, Vertical Institute, Rocket Academy and Le Wagon. If no action is taken, there will be a decline in market share, poor marketing return of investment (ROI), poorer lead generation which means we will not be able to meet the enrollment KPI's.\n",
    "\n",
    "GA marketing is therefore trying to figure out how to better identify the online persona of a bootcamp seeker as opposed to that of a computer science major to aid in targeted advertising.\n",
    "\n",
    "\n",
    "Considering the two topics have quite a bit in common, efforts to further segregate the two targets could yield better advertising ROI.\n"
   ]
  },
  {
   "cell_type": "markdown",
   "id": "7fac33ef",
   "metadata": {},
   "source": [
    "## Problem Statement"
   ]
  },
  {
   "cell_type": "markdown",
   "id": "44c164bd",
   "metadata": {},
   "source": [
    "Due to increased competition in the market for bootcamps. General Assembly has been facing poorer enrollments and they intend to maintain their position as one of the better bootcamps out there.We are team of data scientists that are being tasked by General Assembly to build a model with >90% accuracy that helps to identify between those who are looking for bootcamp style learning vs computer science majors/prospective students based on the words they use online."
   ]
  },
  {
   "cell_type": "markdown",
   "id": "4f36fe3b",
   "metadata": {},
   "source": [
    "## Data Dictionary"
   ]
  },
  {
   "cell_type": "markdown",
   "id": "48b7cb84",
   "metadata": {},
   "source": [
    "| Feature | Type | Dataset | Description|\n",
    "| :--- | :--- | :--- | :--- |\n",
    "| subreddit | Object | cs_major / coding_bootcamp | Subreddit contains the topic of the subreddit in the dataframe. Either cs Major or coding bootcamp|\n",
    "| selftext | Object | cs_major / coding_bootcamp | selftext contains the text or the message of the post written by the end user. |\n",
    "| title | Object | cs_major / coding_bootcamp | title contains the title of the post. |\n",
    "| csMajors | Object | cs_major | csMajors is the topic or also known as the subreddit. csMajors refers to Computer Science Major that universities offers to students. |\n",
    "| coding_bootcamp | Object | coding_bootcamp| coding_bootcamp is the topic or also known as the subreddit. coding_bootamp refers to coding bootcamps that are taken by mid-career switches, companies and students who are interested in upskilling. | \n",
    "| combined_text | Object | cs_major / coding_bootcamp | combined_text is the combined columns of selftext and title. |"
   ]
  },
  {
   "cell_type": "markdown",
   "id": "995cc807",
   "metadata": {},
   "source": [
    "## Import Libraries"
   ]
  },
  {
   "cell_type": "code",
   "execution_count": 53,
   "id": "d6dbaae7",
   "metadata": {},
   "outputs": [],
   "source": [
    "import numpy as np\n",
    "import pandas as pd\n",
    "import seaborn as sns\n",
    "from pylab import rcParams\n",
    "import matplotlib.pyplot as plt\n",
    "from matplotlib.pyplot import figure\n",
    "%matplotlib inline\n",
    "# Set the default text font size\n",
    "plt.rc('font', size=15)\n",
    "# Set the axes title font size\n",
    "plt.rc('axes', titlesize=18)\n",
    "\n",
    "\n",
    "import string\n",
    "import re\n",
    "import nltk\n",
    "\n",
    "\n",
    "from sklearn.feature_extraction.text import CountVectorizer\n",
    "from sklearn.feature_extraction.text import TfidfVectorizer\n",
    "\n",
    "wn = nltk.WordNetLemmatizer()\n",
    "stopwords = nltk.corpus.stopwords.words('english')\n",
    "\n",
    "pd.set_option('display.max_colwidth', 100)\n",
    "import warnings\n",
    "warnings.filterwarnings('ignore')"
   ]
  },
  {
   "cell_type": "markdown",
   "id": "a1fd7cee",
   "metadata": {},
   "source": [
    "## Load dataset from .csv files"
   ]
  },
  {
   "cell_type": "code",
   "execution_count": 2,
   "id": "c6d5caae",
   "metadata": {},
   "outputs": [],
   "source": [
    "cs = pd.read_csv('data/cs_major.csv')\n",
    "bc = pd.read_csv('data/coding_bootcamp.csv')"
   ]
  },
  {
   "cell_type": "markdown",
   "id": "e61ea08e",
   "metadata": {},
   "source": [
    "We will input variables for each subreddit dataframe to be used through the cleaning. The next steps will be to check for null and duplicated values."
   ]
  },
  {
   "cell_type": "markdown",
   "id": "90d4a85b",
   "metadata": {},
   "source": [
    "### Checking for Null values"
   ]
  },
  {
   "cell_type": "code",
   "execution_count": 3,
   "id": "e41da49c",
   "metadata": {},
   "outputs": [
    {
     "name": "stdout",
     "output_type": "stream",
     "text": [
      "subreddit      0\n",
      "selftext     198\n",
      "title          0\n",
      "dtype: int64\n",
      "subreddit      0\n",
      "selftext     991\n",
      "title          0\n",
      "dtype: int64\n"
     ]
    },
    {
     "data": {
      "text/html": [
       "<div>\n",
       "<style scoped>\n",
       "    .dataframe tbody tr th:only-of-type {\n",
       "        vertical-align: middle;\n",
       "    }\n",
       "\n",
       "    .dataframe tbody tr th {\n",
       "        vertical-align: top;\n",
       "    }\n",
       "\n",
       "    .dataframe thead th {\n",
       "        text-align: right;\n",
       "    }\n",
       "</style>\n",
       "<table border=\"1\" class=\"dataframe\">\n",
       "  <thead>\n",
       "    <tr style=\"text-align: right;\">\n",
       "      <th></th>\n",
       "      <th>subreddit</th>\n",
       "      <th>selftext</th>\n",
       "      <th>title</th>\n",
       "    </tr>\n",
       "  </thead>\n",
       "  <tbody>\n",
       "    <tr>\n",
       "      <th>0</th>\n",
       "      <td>codingbootcamp</td>\n",
       "      <td>NaN</td>\n",
       "      <td>Sentiment analysis of YouTube comments in Javascript.</td>\n",
       "    </tr>\n",
       "    <tr>\n",
       "      <th>1</th>\n",
       "      <td>codingbootcamp</td>\n",
       "      <td>I am heavily dependent on MATLAB with some experience in R and Python. I’d love any general YouT...</td>\n",
       "      <td>YouTube recs (C specifically)</td>\n",
       "    </tr>\n",
       "    <tr>\n",
       "      <th>2</th>\n",
       "      <td>codingbootcamp</td>\n",
       "      <td>I definitely didn't do so well on the typing portion, but I feel confident on the other two area...</td>\n",
       "      <td>I just submitted the assessment to App Academy!</td>\n",
       "    </tr>\n",
       "    <tr>\n",
       "      <th>3</th>\n",
       "      <td>codingbootcamp</td>\n",
       "      <td>How are you coping with the feeling of not having time to 100% commit everything to memory? I am...</td>\n",
       "      <td>How much information do you feel like you are really digesting?</td>\n",
       "    </tr>\n",
       "    <tr>\n",
       "      <th>4</th>\n",
       "      <td>codingbootcamp</td>\n",
       "      <td>Sup all. I joined a coding bootcamp that I'm pretty sure I'm gonna fail out of. Holidays got in ...</td>\n",
       "      <td>Really feeling defeated</td>\n",
       "    </tr>\n",
       "  </tbody>\n",
       "</table>\n",
       "</div>"
      ],
      "text/plain": [
       "        subreddit  \\\n",
       "0  codingbootcamp   \n",
       "1  codingbootcamp   \n",
       "2  codingbootcamp   \n",
       "3  codingbootcamp   \n",
       "4  codingbootcamp   \n",
       "\n",
       "                                                                                              selftext  \\\n",
       "0                                                                                                  NaN   \n",
       "1  I am heavily dependent on MATLAB with some experience in R and Python. I’d love any general YouT...   \n",
       "2  I definitely didn't do so well on the typing portion, but I feel confident on the other two area...   \n",
       "3  How are you coping with the feeling of not having time to 100% commit everything to memory? I am...   \n",
       "4  Sup all. I joined a coding bootcamp that I'm pretty sure I'm gonna fail out of. Holidays got in ...   \n",
       "\n",
       "                                                             title  \n",
       "0            Sentiment analysis of YouTube comments in Javascript.  \n",
       "1                                    YouTube recs (C specifically)  \n",
       "2                  I just submitted the assessment to App Academy!  \n",
       "3  How much information do you feel like you are really digesting?  \n",
       "4                                          Really feeling defeated  "
      ]
     },
     "execution_count": 3,
     "metadata": {},
     "output_type": "execute_result"
    }
   ],
   "source": [
    "#check for null values for each subreddit\n",
    "print(cs.isna().sum())\n",
    "cs.head()\n",
    "print(bc.isna().sum())\n",
    "bc.head()"
   ]
  },
  {
   "cell_type": "markdown",
   "id": "b6af66e0",
   "metadata": {},
   "source": [
    "As there are lots of null values from the selftext column we can assume that the message has been pointed out in the title by the user. Hence, I am going to merge these 2 columns together to rectify this."
   ]
  },
  {
   "cell_type": "markdown",
   "id": "01354ce9",
   "metadata": {},
   "source": [
    "### Checking for duplicated values"
   ]
  },
  {
   "cell_type": "code",
   "execution_count": 4,
   "id": "b46e857c",
   "metadata": {},
   "outputs": [
    {
     "data": {
      "text/plain": [
       "0"
      ]
     },
     "execution_count": 4,
     "metadata": {},
     "output_type": "execute_result"
    }
   ],
   "source": [
    "cs.duplicated().sum()"
   ]
  },
  {
   "cell_type": "code",
   "execution_count": 5,
   "id": "d4995a03",
   "metadata": {},
   "outputs": [
    {
     "data": {
      "text/plain": [
       "0"
      ]
     },
     "execution_count": 5,
     "metadata": {},
     "output_type": "execute_result"
    }
   ],
   "source": [
    "bc.duplicated().sum()"
   ]
  },
  {
   "cell_type": "markdown",
   "id": "0692ed2e",
   "metadata": {},
   "source": [
    "Good there are no duplicated values in the datasets. Duplicated values can affect the model as it will seem to have a bias."
   ]
  },
  {
   "cell_type": "markdown",
   "id": "e67e3c62",
   "metadata": {},
   "source": [
    "We have found out that there are posts that were removed and deleted. These posts do not contribute to the end goal hence we will be replacing them with an empty strings."
   ]
  },
  {
   "cell_type": "code",
   "execution_count": null,
   "id": "5524da4f",
   "metadata": {},
   "outputs": [],
   "source": [
    "# Remove the words [removed] and [deleted] from selftexts\n",
    "df['selftext'] = df['selftext'].replace('[removed]', '')\n",
    "df['selftext'] = df['selftext'].replace('[deleted]', '')"
   ]
  },
  {
   "cell_type": "markdown",
   "id": "c163f0bb",
   "metadata": {},
   "source": [
    "### Combining the columns and filling null values"
   ]
  },
  {
   "cell_type": "markdown",
   "id": "0abca75e",
   "metadata": {},
   "source": [
    "We will be filling the null values with an empty string and then combining the 2 columns; 'selftext' and 'title' and forming a new column called 'combined_text'. The purpose of this is to simplify things and it will be easier to apply vectorisation later."
   ]
  },
  {
   "cell_type": "code",
   "execution_count": 6,
   "id": "bf3cb565",
   "metadata": {},
   "outputs": [
    {
     "name": "stdout",
     "output_type": "stream",
     "text": [
      "subreddit        0\n",
      "combined_text    0\n",
      "dtype: int64\n",
      "(4000, 2)\n"
     ]
    },
    {
     "data": {
      "text/html": [
       "<div>\n",
       "<style scoped>\n",
       "    .dataframe tbody tr th:only-of-type {\n",
       "        vertical-align: middle;\n",
       "    }\n",
       "\n",
       "    .dataframe tbody tr th {\n",
       "        vertical-align: top;\n",
       "    }\n",
       "\n",
       "    .dataframe thead th {\n",
       "        text-align: right;\n",
       "    }\n",
       "</style>\n",
       "<table border=\"1\" class=\"dataframe\">\n",
       "  <thead>\n",
       "    <tr style=\"text-align: right;\">\n",
       "      <th></th>\n",
       "      <th>subreddit</th>\n",
       "      <th>combined_text</th>\n",
       "    </tr>\n",
       "  </thead>\n",
       "  <tbody>\n",
       "    <tr>\n",
       "      <th>0</th>\n",
       "      <td>csMajors</td>\n",
       "      <td>I recently accepted my first job offer, I will be starting in June. I’ve previously spoken to th...</td>\n",
       "    </tr>\n",
       "    <tr>\n",
       "      <th>1</th>\n",
       "      <td>csMajors</td>\n",
       "      <td>Sed Update: Took a month to hear back from Cap One just to get rejected</td>\n",
       "    </tr>\n",
       "    <tr>\n",
       "      <th>2</th>\n",
       "      <td>csMajors</td>\n",
       "      <td>Wanted to make a post about this to hopefully inspire some other people who go to low ranked sch...</td>\n",
       "    </tr>\n",
       "    <tr>\n",
       "      <th>3</th>\n",
       "      <td>csMajors</td>\n",
       "      <td>How to renegotiate intern offer or try to get it in a different time such as fall or spring ins...</td>\n",
       "    </tr>\n",
       "    <tr>\n",
       "      <th>4</th>\n",
       "      <td>csMajors</td>\n",
       "      <td>I applied to around 200 internships this season and I ended up receiving two offers, one from UH...</td>\n",
       "    </tr>\n",
       "  </tbody>\n",
       "</table>\n",
       "</div>"
      ],
      "text/plain": [
       "  subreddit  \\\n",
       "0  csMajors   \n",
       "1  csMajors   \n",
       "2  csMajors   \n",
       "3  csMajors   \n",
       "4  csMajors   \n",
       "\n",
       "                                                                                         combined_text  \n",
       "0  I recently accepted my first job offer, I will be starting in June. I’ve previously spoken to th...  \n",
       "1                              Sed Update: Took a month to hear back from Cap One just to get rejected  \n",
       "2  Wanted to make a post about this to hopefully inspire some other people who go to low ranked sch...  \n",
       "3   How to renegotiate intern offer or try to get it in a different time such as fall or spring ins...  \n",
       "4  I applied to around 200 internships this season and I ended up receiving two offers, one from UH...  "
      ]
     },
     "execution_count": 6,
     "metadata": {},
     "output_type": "execute_result"
    }
   ],
   "source": [
    "#filling null values with an empty string\n",
    "cs.fillna('',inplace = True)\n",
    "\n",
    "# combine both title and selftext as a new column\n",
    "cs['combined_text'] = cs['selftext'] + ' ' + cs['title']\n",
    "cs.drop(axis = 1, columns = cs[['selftext', 'title']], inplace = True)\n",
    "\n",
    "\n",
    "#Checking for null values and its shape (rows, columns)\n",
    "print(cs.isna().sum())\n",
    "print(cs.shape)\n",
    "cs.head() # check dataframe"
   ]
  },
  {
   "cell_type": "code",
   "execution_count": 7,
   "id": "7dd83d98",
   "metadata": {},
   "outputs": [
    {
     "name": "stdout",
     "output_type": "stream",
     "text": [
      "subreddit        0\n",
      "combined_text    0\n",
      "dtype: int64\n",
      "(4000, 2)\n"
     ]
    },
    {
     "data": {
      "text/html": [
       "<div>\n",
       "<style scoped>\n",
       "    .dataframe tbody tr th:only-of-type {\n",
       "        vertical-align: middle;\n",
       "    }\n",
       "\n",
       "    .dataframe tbody tr th {\n",
       "        vertical-align: top;\n",
       "    }\n",
       "\n",
       "    .dataframe thead th {\n",
       "        text-align: right;\n",
       "    }\n",
       "</style>\n",
       "<table border=\"1\" class=\"dataframe\">\n",
       "  <thead>\n",
       "    <tr style=\"text-align: right;\">\n",
       "      <th></th>\n",
       "      <th>subreddit</th>\n",
       "      <th>combined_text</th>\n",
       "    </tr>\n",
       "  </thead>\n",
       "  <tbody>\n",
       "    <tr>\n",
       "      <th>0</th>\n",
       "      <td>csMajors</td>\n",
       "      <td>I recently accepted my first job offer, I will be starting in June. I’ve previously spoken to th...</td>\n",
       "    </tr>\n",
       "    <tr>\n",
       "      <th>1</th>\n",
       "      <td>csMajors</td>\n",
       "      <td>Sed Update: Took a month to hear back from Cap One just to get rejected</td>\n",
       "    </tr>\n",
       "    <tr>\n",
       "      <th>2</th>\n",
       "      <td>csMajors</td>\n",
       "      <td>Wanted to make a post about this to hopefully inspire some other people who go to low ranked sch...</td>\n",
       "    </tr>\n",
       "    <tr>\n",
       "      <th>3</th>\n",
       "      <td>csMajors</td>\n",
       "      <td>How to renegotiate intern offer or try to get it in a different time such as fall or spring ins...</td>\n",
       "    </tr>\n",
       "    <tr>\n",
       "      <th>4</th>\n",
       "      <td>csMajors</td>\n",
       "      <td>I applied to around 200 internships this season and I ended up receiving two offers, one from UH...</td>\n",
       "    </tr>\n",
       "  </tbody>\n",
       "</table>\n",
       "</div>"
      ],
      "text/plain": [
       "  subreddit  \\\n",
       "0  csMajors   \n",
       "1  csMajors   \n",
       "2  csMajors   \n",
       "3  csMajors   \n",
       "4  csMajors   \n",
       "\n",
       "                                                                                         combined_text  \n",
       "0  I recently accepted my first job offer, I will be starting in June. I’ve previously spoken to th...  \n",
       "1                              Sed Update: Took a month to hear back from Cap One just to get rejected  \n",
       "2  Wanted to make a post about this to hopefully inspire some other people who go to low ranked sch...  \n",
       "3   How to renegotiate intern offer or try to get it in a different time such as fall or spring ins...  \n",
       "4  I applied to around 200 internships this season and I ended up receiving two offers, one from UH...  "
      ]
     },
     "execution_count": 7,
     "metadata": {},
     "output_type": "execute_result"
    }
   ],
   "source": [
    "#filling null values with an empty string\n",
    "bc.fillna('', inplace = True)\n",
    "\n",
    "#combine both title and selftext as a new column\n",
    "bc['combined_text'] = bc['selftext'] + ' ' + bc['title']\n",
    "bc.drop(axis = 1, columns = bc[['selftext', 'title']], inplace = True)\n",
    "bc.head()\n",
    "\n",
    "#Checking for null values and its shape (rows, columns)\n",
    "print(bc.isna().sum())\n",
    "print(bc.shape)\n",
    "cs.head() #check dataframe"
   ]
  },
  {
   "cell_type": "markdown",
   "id": "45e4dcb7",
   "metadata": {},
   "source": [
    "### Clean Text Function"
   ]
  },
  {
   "cell_type": "markdown",
   "id": "90f94610",
   "metadata": {},
   "source": [
    "We will be creating a function that will do the following things. It will remove punctuation, lowercase them and place it into a list, tokenize the text (seperate each word with a comma), remove stopwords (common words like 'i', 'the','and'), and lemmatize the words at the same time (sourcing out the root word via the WordNet Database)."
   ]
  },
  {
   "cell_type": "code",
   "execution_count": 8,
   "id": "ebc65c75",
   "metadata": {},
   "outputs": [],
   "source": [
    "#create function to clean text, remove punctuation\n",
    "def clean_text(text):\n",
    "    text = str(text)\n",
    "    #removing punctuation and lowercasing them\n",
    "    text =  \"\".join([word.lower() for word in text if word not in string.punctuation])  \n",
    "    tokens = re.split('\\W+', text) #tokenizing the text (separating each word)\n",
    "    \n",
    "    # apply lemmatize and stopwords exclusion within the same step\n",
    "    text = [wn.lemmatize(word) for word in tokens if word not in stopwords]\n",
    "    return text \n",
    "\n",
    "#apply the function into a new column and dropping the older column\n",
    "cs['combined_text_clean'] = cs['combined_text'].apply(lambda x: clean_text(x))\n",
    "cs.drop(axis = 1, columns = 'combined_text',inplace = True)\n",
    "\n",
    "\n",
    "#apply the function into a new column and dropping the older column\n",
    "bc['combined_text_clean'] = bc['combined_text'].apply(lambda x: clean_text(x))\n",
    "bc.drop(axis = 1, columns = 'combined_text',inplace = True)\n"
   ]
  },
  {
   "cell_type": "code",
   "execution_count": 9,
   "id": "a4c3dd44",
   "metadata": {},
   "outputs": [],
   "source": [
    "#saving cleaned dataset for future use\n",
    "bc.to_csv('data/bc_clean.csv', index = False)\n",
    "cs.to_csv('data/cs_clean.csv', index = False)"
   ]
  },
  {
   "cell_type": "markdown",
   "id": "d7a47333",
   "metadata": {},
   "source": [
    "## EDA"
   ]
  },
  {
   "cell_type": "markdown",
   "id": "b9b8c830",
   "metadata": {},
   "source": [
    "### Vectorise Data"
   ]
  },
  {
   "cell_type": "markdown",
   "id": "8851b29a",
   "metadata": {},
   "source": [
    "Vectorising is the process of encoding text as integers to create a feature vector which is an n-dimensional vector of numerical features that represent an object. We will be trying out 3 different methods of vectorisation, Count Vectorisation, N-grams and TF-IDF."
   ]
  },
  {
   "cell_type": "code",
   "execution_count": 10,
   "id": "1a18744a",
   "metadata": {},
   "outputs": [],
   "source": [
    "#loading the clean dataset to differentiate. N-grams uses a different method of cleaning.\n",
    "cs_clean = pd.read_csv('data/cs_clean.csv')\n",
    "bc_clean = pd.read_csv('data/bc_clean.csv')"
   ]
  },
  {
   "cell_type": "markdown",
   "id": "1009ecc8",
   "metadata": {},
   "source": [
    "### Count Vectorisor with N-gram (2,2)"
   ]
  },
  {
   "cell_type": "markdown",
   "id": "9ec1839c",
   "metadata": {},
   "source": [
    "Here we will combine count vectorisation with N-gram (2,2) which is a bigram. A bigram is a collection of 2 words together."
   ]
  },
  {
   "cell_type": "code",
   "execution_count": 11,
   "id": "74545bb5",
   "metadata": {},
   "outputs": [],
   "source": [
    "#read new csv files for ngram\n",
    "cs_ngram = pd.read_csv('data/cs_major.csv')\n",
    "bc_ngram = pd.read_csv('data/coding_bootcamp.csv')\n",
    "\n",
    "cs_ngram.fillna('',inplace = True)\n",
    "cs_ngram['combined_text'] = cs_ngram['selftext'] + ' ' + cs_ngram['title']\n",
    "cs_ngram.drop(axis = 1, columns = cs_ngram[['selftext', 'title']], inplace = True)\n",
    "\n",
    "bc_ngram.fillna('', inplace = True)\n",
    "bc_ngram['combined_text'] = bc_ngram['selftext'] + ' ' + bc_ngram['title']\n",
    "bc_ngram.drop(axis = 1, columns = bc_ngram[['selftext', 'title']], inplace = True)"
   ]
  },
  {
   "cell_type": "code",
   "execution_count": 12,
   "id": "dfda7802",
   "metadata": {},
   "outputs": [],
   "source": [
    "#create function to clean text, remove punctuation\n",
    "def clean_text(text):\n",
    "    text = str(text)\n",
    "    text = \"\".join([word.lower() for word in text if word not in string.punctuation])\n",
    "    tokens = re.split('\\W+', text)\n",
    "    \n",
    "    # apply lemmatize and stopwords exclusion within the same step\n",
    "    text = ' '.join([wn.lemmatize(word) for word in tokens if word not in stopwords])\n",
    "    return text\n",
    "\n",
    "cs_ngram['combined_text_clean'] = cs_ngram['combined_text'].apply(lambda x: clean_text(x))\n",
    "cs_ngram.drop(axis = 1, columns = 'combined_text',inplace = True)\n",
    "bc_ngram['combined_text_clean'] = bc_ngram['combined_text'].apply(lambda x: clean_text(x))\n",
    "bc_ngram.drop(axis = 1, columns = 'combined_text',inplace = True)\n"
   ]
  },
  {
   "cell_type": "code",
   "execution_count": 13,
   "id": "ea8299f5",
   "metadata": {
    "scrolled": true
   },
   "outputs": [
    {
     "name": "stdout",
     "output_type": "stream",
     "text": [
      "(4000, 90813)\n"
     ]
    },
    {
     "data": {
      "text/html": [
       "<div>\n",
       "<style scoped>\n",
       "    .dataframe tbody tr th:only-of-type {\n",
       "        vertical-align: middle;\n",
       "    }\n",
       "\n",
       "    .dataframe tbody tr th {\n",
       "        vertical-align: top;\n",
       "    }\n",
       "\n",
       "    .dataframe thead th {\n",
       "        text-align: right;\n",
       "    }\n",
       "</style>\n",
       "<table border=\"1\" class=\"dataframe\">\n",
       "  <thead>\n",
       "    <tr style=\"text-align: right;\">\n",
       "      <th></th>\n",
       "      <th>000 flip</th>\n",
       "      <th>001 010</th>\n",
       "      <th>001 offer</th>\n",
       "      <th>01 job</th>\n",
       "      <th>010 011</th>\n",
       "      <th>011 100</th>\n",
       "      <th>012 still</th>\n",
       "      <th>02 count</th>\n",
       "      <th>0415 1515</th>\n",
       "      <th>0719 recruiter</th>\n",
       "      <th>...</th>\n",
       "      <th>zybooks feel</th>\n",
       "      <th>zybooksa program</th>\n",
       "      <th>ƒor leetcode</th>\n",
       "      <th>άλλο else</th>\n",
       "      <th>για το</th>\n",
       "      <th>και μηδεν</th>\n",
       "      <th>μηδεν για</th>\n",
       "      <th>τιμη για</th>\n",
       "      <th>το άλλο</th>\n",
       "      <th>το και</th>\n",
       "    </tr>\n",
       "  </thead>\n",
       "  <tbody>\n",
       "    <tr>\n",
       "      <th>0</th>\n",
       "      <td>0</td>\n",
       "      <td>0</td>\n",
       "      <td>0</td>\n",
       "      <td>0</td>\n",
       "      <td>0</td>\n",
       "      <td>0</td>\n",
       "      <td>0</td>\n",
       "      <td>0</td>\n",
       "      <td>0</td>\n",
       "      <td>0</td>\n",
       "      <td>...</td>\n",
       "      <td>0</td>\n",
       "      <td>0</td>\n",
       "      <td>0</td>\n",
       "      <td>0</td>\n",
       "      <td>0</td>\n",
       "      <td>0</td>\n",
       "      <td>0</td>\n",
       "      <td>0</td>\n",
       "      <td>0</td>\n",
       "      <td>0</td>\n",
       "    </tr>\n",
       "    <tr>\n",
       "      <th>1</th>\n",
       "      <td>0</td>\n",
       "      <td>0</td>\n",
       "      <td>0</td>\n",
       "      <td>0</td>\n",
       "      <td>0</td>\n",
       "      <td>0</td>\n",
       "      <td>0</td>\n",
       "      <td>0</td>\n",
       "      <td>0</td>\n",
       "      <td>0</td>\n",
       "      <td>...</td>\n",
       "      <td>0</td>\n",
       "      <td>0</td>\n",
       "      <td>0</td>\n",
       "      <td>0</td>\n",
       "      <td>0</td>\n",
       "      <td>0</td>\n",
       "      <td>0</td>\n",
       "      <td>0</td>\n",
       "      <td>0</td>\n",
       "      <td>0</td>\n",
       "    </tr>\n",
       "    <tr>\n",
       "      <th>2</th>\n",
       "      <td>0</td>\n",
       "      <td>0</td>\n",
       "      <td>0</td>\n",
       "      <td>0</td>\n",
       "      <td>0</td>\n",
       "      <td>0</td>\n",
       "      <td>0</td>\n",
       "      <td>0</td>\n",
       "      <td>0</td>\n",
       "      <td>0</td>\n",
       "      <td>...</td>\n",
       "      <td>0</td>\n",
       "      <td>0</td>\n",
       "      <td>0</td>\n",
       "      <td>0</td>\n",
       "      <td>0</td>\n",
       "      <td>0</td>\n",
       "      <td>0</td>\n",
       "      <td>0</td>\n",
       "      <td>0</td>\n",
       "      <td>0</td>\n",
       "    </tr>\n",
       "    <tr>\n",
       "      <th>3</th>\n",
       "      <td>0</td>\n",
       "      <td>0</td>\n",
       "      <td>0</td>\n",
       "      <td>0</td>\n",
       "      <td>0</td>\n",
       "      <td>0</td>\n",
       "      <td>0</td>\n",
       "      <td>0</td>\n",
       "      <td>0</td>\n",
       "      <td>0</td>\n",
       "      <td>...</td>\n",
       "      <td>0</td>\n",
       "      <td>0</td>\n",
       "      <td>0</td>\n",
       "      <td>0</td>\n",
       "      <td>0</td>\n",
       "      <td>0</td>\n",
       "      <td>0</td>\n",
       "      <td>0</td>\n",
       "      <td>0</td>\n",
       "      <td>0</td>\n",
       "    </tr>\n",
       "    <tr>\n",
       "      <th>4</th>\n",
       "      <td>0</td>\n",
       "      <td>0</td>\n",
       "      <td>0</td>\n",
       "      <td>0</td>\n",
       "      <td>0</td>\n",
       "      <td>0</td>\n",
       "      <td>0</td>\n",
       "      <td>0</td>\n",
       "      <td>0</td>\n",
       "      <td>0</td>\n",
       "      <td>...</td>\n",
       "      <td>0</td>\n",
       "      <td>0</td>\n",
       "      <td>0</td>\n",
       "      <td>0</td>\n",
       "      <td>0</td>\n",
       "      <td>0</td>\n",
       "      <td>0</td>\n",
       "      <td>0</td>\n",
       "      <td>0</td>\n",
       "      <td>0</td>\n",
       "    </tr>\n",
       "  </tbody>\n",
       "</table>\n",
       "<p>5 rows × 90813 columns</p>\n",
       "</div>"
      ],
      "text/plain": [
       "   000 flip  001 010  001 offer  01 job  010 011  011 100  012 still  \\\n",
       "0         0        0          0       0        0        0          0   \n",
       "1         0        0          0       0        0        0          0   \n",
       "2         0        0          0       0        0        0          0   \n",
       "3         0        0          0       0        0        0          0   \n",
       "4         0        0          0       0        0        0          0   \n",
       "\n",
       "   02 count  0415 1515  0719 recruiter  ...  zybooks feel  zybooksa program  \\\n",
       "0         0          0               0  ...             0                 0   \n",
       "1         0          0               0  ...             0                 0   \n",
       "2         0          0               0  ...             0                 0   \n",
       "3         0          0               0  ...             0                 0   \n",
       "4         0          0               0  ...             0                 0   \n",
       "\n",
       "   ƒor leetcode  άλλο else  για το  και μηδεν  μηδεν για  τιμη για  το άλλο  \\\n",
       "0             0          0       0          0          0         0        0   \n",
       "1             0          0       0          0          0         0        0   \n",
       "2             0          0       0          0          0         0        0   \n",
       "3             0          0       0          0          0         0        0   \n",
       "4             0          0       0          0          0         0        0   \n",
       "\n",
       "   το και  \n",
       "0       0  \n",
       "1       0  \n",
       "2       0  \n",
       "3       0  \n",
       "4       0  \n",
       "\n",
       "[5 rows x 90813 columns]"
      ]
     },
     "execution_count": 13,
     "metadata": {},
     "output_type": "execute_result"
    }
   ],
   "source": [
    "#for cs major\n",
    "# ngram_range refers to the range of n-grams that we would like to look for. In this case, (2,2) = bigrams \n",
    "\n",
    "cvec = CountVectorizer(analyzer='word',ngram_range=(2,2))\n",
    "X_counts_ngram = cvec.fit_transform(cs_ngram['combined_text_clean'])\n",
    "#Returns number of rows and columns\n",
    "print(X_counts_ngram.shape)\n",
    "\n",
    "cs_cvec = pd.DataFrame(X_counts_ngram.toarray())\n",
    "cs_cvec.columns = cvec.get_feature_names()\n",
    "\n",
    "cs_cvec.to_csv('data/cs_cvec.csv')#save to csv\n",
    "cs_cvec.head()\n",
    "\n"
   ]
  },
  {
   "cell_type": "code",
   "execution_count": 65,
   "id": "164b2f3a",
   "metadata": {},
   "outputs": [
    {
     "data": {
      "text/plain": [
       "<AxesSubplot:title={'center':'Top 20 Bi-gram CS Major'}, ylabel='Words'>"
      ]
     },
     "execution_count": 65,
     "metadata": {},
     "output_type": "execute_result"
    },
    {
     "data": {
      "image/png": "[encoded data removed]",
      "text/plain": [
       "<Figure size 1080x720 with 1 Axes>"
      ]
     },
     "metadata": {
      "needs_background": "light"
     },
     "output_type": "display_data"
    }
   ],
   "source": [
    "cs_cvec.sum().sort_values(ascending = False).head(20).plot(kind = 'barh',\n",
    "                                                           figsize=(15,10),\n",
    "                                                           title = ('Top 20 Bi-gram CS Major'),\n",
    "                                                           ylabel =('Count'),\n",
    "                                                           xlabel=('Words'))"
   ]
  },
  {
   "cell_type": "markdown",
   "id": "33b7e3e9",
   "metadata": {},
   "source": [
    "For the CS Major, there are still lots of stopwords that could be removed. Words such as; 'dont know', 'anyone else', 'anyone know'. These are words that are not beneficial to our case. However, from this we can tell that most users are identifying themselves as a new graduate or they are looking for internships for software engineering."
   ]
  },
  {
   "cell_type": "code",
   "execution_count": 14,
   "id": "e89ee401",
   "metadata": {},
   "outputs": [
    {
     "name": "stdout",
     "output_type": "stream",
     "text": [
      "(4000, 111273)\n"
     ]
    }
   ],
   "source": [
    "#for coding bootcamp\n",
    "cvec = CountVectorizer(analyzer='word',ngram_range=(2,2))\n",
    "X_counts_ngram = cvec.fit_transform(bc_ngram['combined_text_clean'])\n",
    "#Returns number of rows and columns\n",
    "print(X_counts_ngram.shape)\n",
    "\n",
    "bc_cvec = pd.DataFrame(X_counts_ngram.toarray())\n",
    "bc_cvec.columns = cvec.get_feature_names()\n",
    "\n",
    "bc_cvec.to_csv('data/bc_cvec.csv')#save to csv"
   ]
  },
  {
   "cell_type": "code",
   "execution_count": 64,
   "id": "58cef801",
   "metadata": {},
   "outputs": [
    {
     "data": {
      "text/plain": [
       "<AxesSubplot:title={'center':'Top 20 Bi-gram Coding Bootcamp'}, ylabel='Words'>"
      ]
     },
     "execution_count": 64,
     "metadata": {},
     "output_type": "execute_result"
    },
    {
     "data": {
      "image/png": "[encoded data removed]",
      "text/plain": [
       "<Figure size 1080x720 with 1 Axes>"
      ]
     },
     "metadata": {
      "needs_background": "light"
     },
     "output_type": "display_data"
    }
   ],
   "source": [
    "bc_cvec.sum().sort_values(ascending = False).head(20).plot(kind = 'barh',\n",
    "                                                           figsize=(15,10),\n",
    "                                                           title = ('Top 20 Bi-gram Coding Bootcamp'),\n",
    "                                                           ylabel =('Count'),\n",
    "                                                           xlabel=('Words'))"
   ]
  },
  {
   "cell_type": "markdown",
   "id": "fa2dd855",
   "metadata": {},
   "source": [
    "**TF-IDF**"
   ]
  },
  {
   "cell_type": "markdown",
   "id": "a1de7c6d",
   "metadata": {},
   "source": [
    "TF-IDF which stands for term frequency–inverse document frequency is a vectorisation method that is basically a count vectorizer that includes some consideration for the length of the document, and also how common the word is across other text messages."
   ]
  },
  {
   "cell_type": "code",
   "execution_count": null,
   "id": "1bc82830",
   "metadata": {},
   "outputs": [],
   "source": [
    "#apply tf-idf to cs_major\n",
    "tfidf_vect = TfidfVectorizer(analyzer='word')\n",
    "X_tfidf_cs = tfidf_vect.fit_transform(cs_clean['combined_text_clean'])\n",
    "\n",
    "\n",
    "print(X_tfidf_cs.shape)\n",
    "print(tfidf_vect.get_feature_names())\n",
    "\n",
    "#apply to a dataframe\n",
    "X_tfidf_cs_df = pd.DataFrame(X_tfidf_cs.toarray())\n",
    "X_tfidf_cs_df.columns = tfidf_vect.get_feature_names()\n",
    "X_tfidf_cs_df\n",
    "\n",
    "X_tfidf_cs_df.to_csv('data/cs_tfidf.csv')#save to csv"
   ]
  },
  {
   "cell_type": "code",
   "execution_count": 63,
   "id": "92d4e3df",
   "metadata": {},
   "outputs": [
    {
     "data": {
      "text/plain": [
       "<AxesSubplot:title={'center':'Top 20 TF-IDF CS Major'}, ylabel='Words'>"
      ]
     },
     "execution_count": 63,
     "metadata": {},
     "output_type": "execute_result"
    },
    {
     "data": {
      "image/png": "[encoded data removed]",
      "text/plain": [
       "<Figure size 1080x720 with 1 Axes>"
      ]
     },
     "metadata": {
      "needs_background": "light"
     },
     "output_type": "display_data"
    }
   ],
   "source": [
    "X_tfidf_cs_df.sum().sort_values(ascending = False).head(20).plot(kind = 'barh',\n",
    "                                                           figsize=(15,10),\n",
    "                                                           title = ('Top 20 TF-IDF CS Major'),\n",
    "                                                           ylabel =('Count'),\n",
    "                                                           xlabel=('Words'))"
   ]
  },
  {
   "cell_type": "code",
   "execution_count": null,
   "id": "9fdd3da9",
   "metadata": {},
   "outputs": [],
   "source": [
    "#apply tf-idf to coding_bootcamp\n",
    "tfidf_vect = TfidfVectorizer(analyzer='word')\n",
    "X_tfidf_bc = tfidf_vect.fit_transform(bc_clean['combined_text_clean'])\n",
    "\n",
    "\n",
    "print(X_tfidf_bc.shape)\n",
    "print(tfidf_vect.get_feature_names())\n",
    "\n",
    "X_tfidf_bc_df = pd.DataFrame(X_tfidf_bc.toarray())\n",
    "X_tfidf_bc_df.columns = tfidf_vect.get_feature_names()\n",
    "X_tfidf_bc_df\n",
    "\n",
    "X_tfidf_bc_df.to_csv('data/bc_tfidf.csv')#save to csv"
   ]
  },
  {
   "cell_type": "code",
   "execution_count": 61,
   "id": "607df0b8",
   "metadata": {},
   "outputs": [
    {
     "data": {
      "text/plain": [
       "<AxesSubplot:title={'center':'Top 20 TF-IDF Coding Bootcamp'}, ylabel='Words'>"
      ]
     },
     "execution_count": 61,
     "metadata": {},
     "output_type": "execute_result"
    },
    {
     "data": {
      "image/png": "[encoded data removed]",
      "text/plain": [
       "<Figure size 1080x720 with 1 Axes>"
      ]
     },
     "metadata": {
      "needs_background": "light"
     },
     "output_type": "display_data"
    }
   ],
   "source": [
    "X_tfidf_bc_df.sum().sort_values(ascending = False).head(20).plot(kind = 'barh',\n",
    "                                                           figsize=(15,10),\n",
    "                                                           title = ('Top 20 TF-IDF Coding Bootcamp'),\n",
    "                                                           ylabel =('Count'),\n",
    "                                                           xlabel=('Words'))"
   ]
  },
  {
   "cell_type": "markdown",
   "id": "234f14e4",
   "metadata": {},
   "source": [
    "From here we are able to identify a few more stopwords that could be added and which do not contribute to the model."
   ]
  },
  {
   "cell_type": "code",
   "execution_count": null,
   "id": "81708d60",
   "metadata": {},
   "outputs": [],
   "source": [
    "new_stopwords = ['like','im','know','boot','would','camp','looking','got','get','one','back','know']"
   ]
  },
  {
   "cell_type": "markdown",
   "id": "9a791062",
   "metadata": {},
   "source": [
    "These stopwords will be added to the modelling portion."
   ]
  }
 ],
 "metadata": {
  "kernelspec": {
   "display_name": "Python 3 (ipykernel)",
   "language": "python",
   "name": "python3"
  },
  "language_info": {
   "codemirror_mode": {
    "name": "ipython",
    "version": 3
   },
   "file_extension": ".py",
   "mimetype": "text/x-python",
   "name": "python",
   "nbconvert_exporter": "python",
   "pygments_lexer": "ipython3",
   "version": "3.9.7"
  }
 },
 "nbformat": 4,
 "nbformat_minor": 5
}
